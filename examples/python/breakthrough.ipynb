{
 "cells": [
  {
   "cell_type": "code",
   "execution_count": 1,
   "metadata": {},
   "outputs": [],
   "source": [
    "import numpy as np\n",
    "import matplotlib.pyplot as plt\n",
    "import ruptura"
   ]
  },
  {
   "cell_type": "code",
   "execution_count": 2,
   "metadata": {},
   "outputs": [
    {
     "name": "stdout",
     "output_type": "stream",
     "text": [
      "Component data\n",
      "=======================================================\n",
      "maximum isotherm terms:        1\n",
      "Component id: 1 [nC6]:\n",
      "    mol-fraction in the gas:   0.010000 [-]\n",
      "    mas-transfer coefficient: 0.060000 [1/s]\n",
      "    diffusion coefficient:     0.000000 [m^2/s]\n",
      "    number of isotherm sites:  1\n",
      "    Langmuir isotherm\n",
      "        q_sat: 1.100000\n",
      "        b:     0.000214\n",
      "\n",
      "Component id: 2 [2MP]:\n",
      "    mol-fraction in the gas:   0.010000 [-]\n",
      "    mas-transfer coefficient: 0.060000 [1/s]\n",
      "    diffusion coefficient:     0.000000 [m^2/s]\n",
      "    number of isotherm sites:  1\n",
      "    Langmuir isotherm\n",
      "        q_sat: 1.400000\n",
      "        b:     0.000168\n",
      "\n",
      "Component id: 0 [Helium]:\n",
      "    carrier-gas\n",
      "    number of isotherm sites:  0\n",
      "    mol-fraction in the gas:   0.980000 [-]\n",
      "\n",
      "\n",
      "Column properties\n",
      "=======================================================\n",
      "Display-name:                          CoBDP\n",
      "Temperature:                           443.000000 [K]\n",
      "Column length:                         0.300000 [m]\n",
      "Column void-fraction:                  0.400000 [-]\n",
      "Particle density:                      1000.000000 [kg/m^3]\n",
      "Total pressure:                        2000000.000000 [Pa]\n",
      "Pressure gradient:                     0.000000 [Pa/m]\n",
      "Column entrance interstitial velocity: 0.500000 [m/s]\n",
      "\n",
      "\n",
      "Breakthrough settings\n",
      "=======================================================\n",
      "Number of time steps:          10000\n",
      "Print every step:              10000\n",
      "Write data every step:         1\n",
      "\n",
      "\n",
      "Integration details\n",
      "=======================================================\n",
      "Time step:                     0.000500 [s]\n",
      "Number of column grid points:  100\n",
      "Column spacing:                0.003000 [m]\n",
      "\n",
      "\n",
      "Component data\n",
      "=======================================================\n",
      "maximum isotherm terms:        1\n",
      "Component id: 0 [Helium]:\n",
      "    carrier-gas\n",
      "    number of isotherm sites:  0\n",
      "    mol-fraction in the gas:   0.980000 [-]\n",
      "\n",
      "Component id: 1 [nC6]:\n",
      "    mol-fraction in the gas:   0.010000 [-]\n",
      "    mas-transfer coefficient: 0.060000 [1/s]\n",
      "    diffusion coefficient:     0.000000 [m^2/s]\n",
      "    number of isotherm sites:  1\n",
      "    Langmuir isotherm\n",
      "        q_sat: 1.100000\n",
      "        b:     0.000214\n",
      "\n",
      "Component id: 2 [2MP]:\n",
      "    mol-fraction in the gas:   0.010000 [-]\n",
      "    mas-transfer coefficient: 0.060000 [1/s]\n",
      "    diffusion coefficient:     0.000000 [m^2/s]\n",
      "    number of isotherm sites:  1\n",
      "    Langmuir isotherm\n",
      "        q_sat: 1.400000\n",
      "        b:     0.000168\n",
      "\n",
      "\n"
     ]
    }
   ],
   "source": [
    "\n",
    "components = ruptura.Components()\n",
    "components.addComponent(\n",
    "    name=\"Helium\",\n",
    "    gasPhaseMolFraction=0.98,\n",
    "    isCarrierGas=True\n",
    ")\n",
    "components.addComponent(\n",
    "    name=\"nC6\",\n",
    "    gasPhaseMolFraction=0.01,\n",
    "    isotherms=[[\"Langmuir\", 1.1, 2.14e-4]],\n",
    "    massTransferCoefficient=0.06,\n",
    "    axialDispersionCoefficient=0.0\n",
    ")\n",
    "components.addComponent(\n",
    "    name=\"2MP\",\n",
    "    gasPhaseMolFraction=0.01,\n",
    "    isotherms=[[\"Langmuir\", 1.4, 1.68e-4]],\n",
    "    massTransferCoefficient=0.06,\n",
    "    axialDispersionCoefficient=0.0\n",
    ")\n",
    "\n",
    "mix = ruptura.MixturePrediction(\n",
    "    displayName=\"CoBDP\",\n",
    "    temperature=443.0, \n",
    "    pressureStart=-1.0,\n",
    "    pressureEnd=-1.0,\n",
    "    numberOfPressurePoints=100,\n",
    "    pressureScale=\"log\",\n",
    "    components=components\n",
    ")\n",
    "\n",
    "brk = ruptura.Breakthrough(\n",
    "    displayName=\"CoBDP\",\n",
    "    components=components,\n",
    "    mixturePrediction=mix,\n",
    "    temperature=443.0,\n",
    "    numberOfTimeSteps=1e4,\n",
    "    numberOfGridPoints=100,\n",
    "    printEvery=1000,\n",
    "    writeEvery=1,\n",
    "    totalPressure=2.0e6,\n",
    "    columnVoidFraction=0.4,\n",
    "    pressureGradient=0.0,\n",
    "    columnEntranceVelocity=0.5,\n",
    "    columnLength=0.3, \n",
    "    timeStep=0.0005,\n",
    ")"
   ]
  },
  {
   "cell_type": "code",
   "execution_count": 3,
   "metadata": {},
   "outputs": [
    {
     "name": "stdout",
     "output_type": "stream",
     "text": [
      "autosteps 0\n",
      "Timestep 0, time: 0.000000 [s]\n",
      "    Average number of mixture-prediction steps: 6.300000\n"
     ]
    },
    {
     "data": {
      "text/plain": [
       "array([[[ 0.00000000e+000,  5.00000000e-001,  2.00000000e+006, ...,\n",
       "          9.80000000e+001,  0.00000000e+000,  3.88630915e-002],\n",
       "        [ 3.00000000e-003,  4.99769500e-001,  2.00000000e+006, ...,\n",
       "          9.99935877e+001,  3.33333333e+006,  0.00000000e+000],\n",
       "        [ 6.00000000e-003,  4.99754854e-001,  2.00000000e+006, ...,\n",
       "          1.00000000e+002,  0.00000000e+000,  0.00000000e+000],\n",
       "        ...,\n",
       "        [ 2.94000000e-001,  4.99754403e-001,  2.00000000e+006, ...,\n",
       "          0.00000000e+000,  0.00000000e+000,  0.00000000e+000],\n",
       "        [ 2.97000000e-001,  4.99754403e-001,  2.00000000e+006, ...,\n",
       "          9.87971012e-282,  0.00000000e+000,  0.00000000e+000],\n",
       "        [ 3.00000000e-001,  4.99754403e-001,  2.00000000e+006, ...,\n",
       "          5.99005189e-320,  0.00000000e+000,  0.00000000e+000]],\n",
       "\n",
       "       [[ 0.00000000e+000,  5.00000000e-001,  2.00000000e+006, ...,\n",
       "          1.00000000e+002,  0.00000000e+000,  3.88619256e-002],\n",
       "        [ 3.00000000e-003,  4.99671977e-001,  2.00000000e+006, ...,\n",
       "          9.99761465e+001,  2.99151426e+006,  1.43211058e-002],\n",
       "        [ 6.00000000e-003,  4.99620820e-001,  2.00000000e+006, ...,\n",
       "          9.99999511e+001,  2.47130884e+005,  8.84299678e-004],\n",
       "        ...,\n",
       "        [ 2.94000000e-001,  4.99617631e-001,  2.00000000e+006, ...,\n",
       "          0.00000000e+000,  0.00000000e+000,  0.00000000e+000],\n",
       "        [ 2.97000000e-001,  4.99617631e-001,  2.00000000e+006, ...,\n",
       "          9.87971012e-282,  0.00000000e+000,  0.00000000e+000],\n",
       "        [ 3.00000000e-001,  4.99617631e-001,  2.00000000e+006, ...,\n",
       "          5.99005189e-320,  0.00000000e+000,  0.00000000e+000]],\n",
       "\n",
       "       [[ 0.00000000e+000,  5.00000000e-001,  2.00000000e+006, ...,\n",
       "          1.00000000e+002,  0.00000000e+000,  3.88607598e-002],\n",
       "        [ 3.00000000e-003,  4.99687704e-001,  2.00000000e+006, ...,\n",
       "          9.99563649e+001, -6.14956621e+005,  2.07889962e-002],\n",
       "        [ 6.00000000e-003,  4.99600182e-001,  2.00000000e+006, ...,\n",
       "          9.99997578e+001,  4.43268613e+005,  3.09975824e-003],\n",
       "        ...,\n",
       "        [ 2.94000000e-001,  4.99590701e-001,  2.00000000e+006, ...,\n",
       "          0.00000000e+000,  0.00000000e+000,  0.00000000e+000],\n",
       "        [ 2.97000000e-001,  4.99590701e-001,  2.00000000e+006, ...,\n",
       "          9.87971012e-282,  0.00000000e+000,  0.00000000e+000],\n",
       "        [ 3.00000000e-001,  4.99590701e-001,  2.00000000e+006, ...,\n",
       "          5.99005189e-320,  0.00000000e+000,  0.00000000e+000]],\n",
       "\n",
       "       ...,\n",
       "\n",
       "       [[ 0.00000000e+000,  5.00000000e-001,  2.00000000e+006, ...,\n",
       "          1.00000000e+002,  0.00000000e+000, -1.87160619e-006],\n",
       "        [ 3.00000000e-003,  5.00000078e-001,  2.00000000e+006, ...,\n",
       "          9.99999744e+001, -6.48400421e-003, -4.78402419e-006],\n",
       "        [ 6.00000000e-003,  5.00000128e-001,  2.00000000e+006, ...,\n",
       "          9.99999698e+001, -8.52735843e-003, -3.03180469e-006],\n",
       "        ...,\n",
       "        [ 2.94000000e-001,  5.00000000e-001,  2.00000000e+006, ...,\n",
       "          0.00000000e+000,  7.55557120e-008,  0.00000000e+000],\n",
       "        [ 2.97000000e-001,  5.00000000e-001,  2.00000000e+006, ...,\n",
       "          9.87971012e-282,  7.13855475e-008,  0.00000000e+000],\n",
       "        [ 3.00000000e-001,  5.00000000e-001,  2.00000000e+006, ...,\n",
       "          5.99005189e-320,  7.11285966e-008,  0.00000000e+000]],\n",
       "\n",
       "       [[ 0.00000000e+000,  5.00000000e-001,  2.00000000e+006, ...,\n",
       "          1.00000000e+002,  0.00000000e+000, -1.87155004e-006],\n",
       "        [ 3.00000000e-003,  5.00000078e-001,  2.00000000e+006, ...,\n",
       "          9.99999744e+001, -6.48387170e-003, -4.78392642e-006],\n",
       "        [ 6.00000000e-003,  5.00000128e-001,  2.00000000e+006, ...,\n",
       "          9.99999698e+001, -8.52722640e-003, -3.03177389e-006],\n",
       "        ...,\n",
       "        [ 2.94000000e-001,  5.00000000e-001,  2.00000000e+006, ...,\n",
       "          0.00000000e+000,  7.62384523e-008,  0.00000000e+000],\n",
       "        [ 2.97000000e-001,  5.00000000e-001,  2.00000000e+006, ...,\n",
       "          9.87971012e-282,  7.17464882e-008,  0.00000000e+000],\n",
       "        [ 3.00000000e-001,  5.00000000e-001,  2.00000000e+006, ...,\n",
       "          5.99005189e-320,  7.11635933e-008,  0.00000000e+000]],\n",
       "\n",
       "       [[ 0.00000000e+000,  5.00000000e-001,  2.00000000e+006, ...,\n",
       "          1.00000000e+002,  0.00000000e+000, -1.87149390e-006],\n",
       "        [ 3.00000000e-003,  5.00000078e-001,  2.00000000e+006, ...,\n",
       "          9.99999744e+001, -6.48373920e-003, -4.78382864e-006],\n",
       "        [ 6.00000000e-003,  5.00000128e-001,  2.00000000e+006, ...,\n",
       "          9.99999698e+001, -8.52709437e-003, -3.03174309e-006],\n",
       "        ...,\n",
       "        [ 2.94000000e-001,  5.00000000e-001,  2.00000000e+006, ...,\n",
       "          0.00000000e+000,  7.69452208e-008,  0.00000000e+000],\n",
       "        [ 2.97000000e-001,  5.00000000e-001,  2.00000000e+006, ...,\n",
       "          9.87971012e-282,  7.21341349e-008,  0.00000000e+000],\n",
       "        [ 3.00000000e-001,  5.00000000e-001,  2.00000000e+006, ...,\n",
       "          5.99005189e-320,  7.12257349e-008,  0.00000000e+000]]])"
      ]
     },
     "execution_count": 3,
     "metadata": {},
     "output_type": "execute_result"
    }
   ],
   "source": [
    "brk.compute()"
   ]
  },
  {
   "cell_type": "code",
   "execution_count": 4,
   "metadata": {},
   "outputs": [
    {
     "data": {
      "text/plain": [
       "(10000, 101, 21)"
      ]
     },
     "execution_count": 4,
     "metadata": {},
     "output_type": "execute_result"
    }
   ],
   "source": [
    "brk.data.shape"
   ]
  },
  {
   "cell_type": "code",
   "execution_count": 5,
   "metadata": {},
   "outputs": [],
   "source": [
    "def read_data_to_array(file_path):\n",
    "    with open(file_path, 'r') as f:\n",
    "        data = f.read().strip().split('\\n\\n')  # Split the data into blocks by empty line\n",
    "\n",
    "    data_blocks = [block.split('\\n') for block in data]  # Split each block into lines\n",
    "    data_lines = [[line.split() for line in block if len(line) and line[0] != \"#\"] for block in data_blocks]  # Split each line into elements\n",
    "    \n",
    "    # Convert everything into integers and reshape to third order array\n",
    "    data_array = np.array(data_lines, dtype=np.float32)\n",
    "    \n",
    "    return data_array\n",
    "\n",
    "# Use the function\n",
    "data_array = read_data_to_array('../CoBDP-alkanes-C6/breakthrough/column.data')"
   ]
  },
  {
   "cell_type": "code",
   "execution_count": 6,
   "metadata": {},
   "outputs": [
    {
     "data": {
      "text/plain": [
       "(10000, 101, 21)"
      ]
     },
     "execution_count": 6,
     "metadata": {},
     "output_type": "execute_result"
    }
   ],
   "source": [
    "data_array.shape"
   ]
  },
  {
   "cell_type": "code",
   "execution_count": 7,
   "metadata": {},
   "outputs": [
    {
     "data": {
      "text/plain": [
       "38926116.66955463"
      ]
     },
     "execution_count": 7,
     "metadata": {},
     "output_type": "execute_result"
    }
   ],
   "source": [
    "np.linalg.norm(brk.data - data_array)"
   ]
  },
  {
   "cell_type": "code",
   "execution_count": 8,
   "metadata": {},
   "outputs": [
    {
     "data": {
      "text/plain": [
       "12"
      ]
     },
     "execution_count": 8,
     "metadata": {},
     "output_type": "execute_result"
    }
   ],
   "source": [
    "(brk.data[0] - data_array[0])[0].argmax()"
   ]
  },
  {
   "cell_type": "code",
   "execution_count": null,
   "metadata": {},
   "outputs": [],
   "source": []
  }
 ],
 "metadata": {
  "kernelspec": {
   "display_name": "compchem",
   "language": "python",
   "name": "python3"
  },
  "language_info": {
   "codemirror_mode": {
    "name": "ipython",
    "version": 3
   },
   "file_extension": ".py",
   "mimetype": "text/x-python",
   "name": "python",
   "nbconvert_exporter": "python",
   "pygments_lexer": "ipython3",
   "version": "3.11.3"
  },
  "orig_nbformat": 4
 },
 "nbformat": 4,
 "nbformat_minor": 2
}
